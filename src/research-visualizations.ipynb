{
 "cells": [
  {
   "cell_type": "markdown",
   "id": "9b9d51bd",
   "metadata": {},
   "source": [
    "# Research"
   ]
  },
  {
   "cell_type": "code",
   "execution_count": 1,
   "id": "8e4bc2cd",
   "metadata": {},
   "outputs": [],
   "source": [
    "import pandas as pd"
   ]
  },
  {
   "cell_type": "code",
   "execution_count": 3,
   "id": "48397248",
   "metadata": {},
   "outputs": [
    {
     "data": {
      "text/html": [
       "<div>\n",
       "<style scoped>\n",
       "    .dataframe tbody tr th:only-of-type {\n",
       "        vertical-align: middle;\n",
       "    }\n",
       "\n",
       "    .dataframe tbody tr th {\n",
       "        vertical-align: top;\n",
       "    }\n",
       "\n",
       "    .dataframe thead th {\n",
       "        text-align: right;\n",
       "    }\n",
       "</style>\n",
       "<table border=\"1\" class=\"dataframe\">\n",
       "  <thead>\n",
       "    <tr style=\"text-align: right;\">\n",
       "      <th></th>\n",
       "      <th>Rank</th>\n",
       "      <th>Country</th>\n",
       "      <th>Median Age</th>\n",
       "      <th>Percent Urban</th>\n",
       "      <th>Fertility Rate</th>\n",
       "      <th>Net Migrants</th>\n",
       "      <th>1970 Population</th>\n",
       "      <th>1980 Population</th>\n",
       "      <th>1990 Population</th>\n",
       "      <th>2000 Population</th>\n",
       "      <th>2010 Population</th>\n",
       "      <th>2020 Population</th>\n",
       "      <th>Net Change</th>\n",
       "      <th>Average Decade Change</th>\n",
       "      <th>Global Population (%)</th>\n",
       "    </tr>\n",
       "  </thead>\n",
       "  <tbody>\n",
       "    <tr>\n",
       "      <th>0</th>\n",
       "      <td>37</td>\n",
       "      <td>Afghanistan</td>\n",
       "      <td>18</td>\n",
       "      <td>25</td>\n",
       "      <td>4.6</td>\n",
       "      <td>-62920</td>\n",
       "      <td>10752971</td>\n",
       "      <td>12486631</td>\n",
       "      <td>10694796</td>\n",
       "      <td>19542982</td>\n",
       "      <td>28189672</td>\n",
       "      <td>38972230</td>\n",
       "      <td>28219259</td>\n",
       "      <td>5643852</td>\n",
       "      <td>0.503700</td>\n",
       "    </tr>\n",
       "    <tr>\n",
       "      <th>1</th>\n",
       "      <td>129</td>\n",
       "      <td>Albania</td>\n",
       "      <td>36</td>\n",
       "      <td>63</td>\n",
       "      <td>1.6</td>\n",
       "      <td>-14000</td>\n",
       "      <td>2324731</td>\n",
       "      <td>2941651</td>\n",
       "      <td>3295066</td>\n",
       "      <td>3182021</td>\n",
       "      <td>2913399</td>\n",
       "      <td>2866849</td>\n",
       "      <td>542118</td>\n",
       "      <td>108424</td>\n",
       "      <td>0.037053</td>\n",
       "    </tr>\n",
       "    <tr>\n",
       "      <th>2</th>\n",
       "      <td>35</td>\n",
       "      <td>Algeria</td>\n",
       "      <td>29</td>\n",
       "      <td>73</td>\n",
       "      <td>3.1</td>\n",
       "      <td>-10000</td>\n",
       "      <td>13795915</td>\n",
       "      <td>18739378</td>\n",
       "      <td>25518074</td>\n",
       "      <td>30774621</td>\n",
       "      <td>35856344</td>\n",
       "      <td>43451666</td>\n",
       "      <td>29655751</td>\n",
       "      <td>5931150</td>\n",
       "      <td>0.561595</td>\n",
       "    </tr>\n",
       "    <tr>\n",
       "      <th>3</th>\n",
       "      <td>43</td>\n",
       "      <td>Angola</td>\n",
       "      <td>17</td>\n",
       "      <td>67</td>\n",
       "      <td>5.6</td>\n",
       "      <td>6413</td>\n",
       "      <td>6029700</td>\n",
       "      <td>8330047</td>\n",
       "      <td>11828638</td>\n",
       "      <td>16394062</td>\n",
       "      <td>23364185</td>\n",
       "      <td>33428485</td>\n",
       "      <td>27398785</td>\n",
       "      <td>5479757</td>\n",
       "      <td>0.432050</td>\n",
       "    </tr>\n",
       "    <tr>\n",
       "      <th>4</th>\n",
       "      <td>183</td>\n",
       "      <td>Antigua and Barbuda</td>\n",
       "      <td>34</td>\n",
       "      <td>26</td>\n",
       "      <td>2.0</td>\n",
       "      <td>0</td>\n",
       "      <td>64516</td>\n",
       "      <td>64888</td>\n",
       "      <td>63328</td>\n",
       "      <td>75055</td>\n",
       "      <td>85695</td>\n",
       "      <td>92664</td>\n",
       "      <td>28148</td>\n",
       "      <td>5630</td>\n",
       "      <td>0.001198</td>\n",
       "    </tr>\n",
       "  </tbody>\n",
       "</table>\n",
       "</div>"
      ],
      "text/plain": [
       "   Rank              Country  Median Age  Percent Urban  Fertility Rate  \\\n",
       "0    37          Afghanistan          18             25             4.6   \n",
       "1   129              Albania          36             63             1.6   \n",
       "2    35              Algeria          29             73             3.1   \n",
       "3    43               Angola          17             67             5.6   \n",
       "4   183  Antigua and Barbuda          34             26             2.0   \n",
       "\n",
       "   Net Migrants  1970 Population  1980 Population  1990 Population  \\\n",
       "0        -62920         10752971         12486631         10694796   \n",
       "1        -14000          2324731          2941651          3295066   \n",
       "2        -10000         13795915         18739378         25518074   \n",
       "3          6413          6029700          8330047         11828638   \n",
       "4             0            64516            64888            63328   \n",
       "\n",
       "   2000 Population  2010 Population  2020 Population  Net Change  \\\n",
       "0         19542982         28189672         38972230    28219259   \n",
       "1          3182021          2913399          2866849      542118   \n",
       "2         30774621         35856344         43451666    29655751   \n",
       "3         16394062         23364185         33428485    27398785   \n",
       "4            75055            85695            92664       28148   \n",
       "\n",
       "   Average Decade Change  Global Population (%)  \n",
       "0                5643852               0.503700  \n",
       "1                 108424               0.037053  \n",
       "2                5931150               0.561595  \n",
       "3                5479757               0.432050  \n",
       "4                   5630               0.001198  "
      ]
     },
     "execution_count": 3,
     "metadata": {},
     "output_type": "execute_result"
    }
   ],
   "source": [
    "global_population_df = pd.read_csv(\"data/global_population.csv\")\n",
    "\n",
    "global_population_df.head()"
   ]
  },
  {
   "cell_type": "markdown",
   "id": "c281ee58",
   "metadata": {},
   "source": [
    "## Questions"
   ]
  },
  {
   "cell_type": "markdown",
   "id": "cb128971",
   "metadata": {},
   "source": [
    "### Question: What are the most populated countries?"
   ]
  },
  {
   "cell_type": "code",
   "execution_count": null,
   "id": "c000e1dc",
   "metadata": {},
   "outputs": [],
   "source": [
    "# ..."
   ]
  },
  {
   "cell_type": "markdown",
   "id": "39b3e985",
   "metadata": {},
   "source": [
    "### Question: Which countries had the highest population growth?"
   ]
  },
  {
   "cell_type": "code",
   "execution_count": null,
   "id": "6693818b",
   "metadata": {},
   "outputs": [],
   "source": [
    "# ..."
   ]
  },
  {
   "cell_type": "markdown",
   "id": "c4feacea",
   "metadata": {},
   "source": [
    "### Question: Does the urban population percentage help predict population growth?"
   ]
  },
  {
   "cell_type": "code",
   "execution_count": null,
   "id": "95f9ceda",
   "metadata": {},
   "outputs": [],
   "source": [
    "# ..."
   ]
  }
 ],
 "metadata": {
  "kernelspec": {
   "display_name": "Python 3",
   "language": "python",
   "name": "python3"
  },
  "language_info": {
   "codemirror_mode": {
    "name": "ipython",
    "version": 3
   },
   "file_extension": ".py",
   "mimetype": "text/x-python",
   "name": "python",
   "nbconvert_exporter": "python",
   "pygments_lexer": "ipython3",
   "version": "3.9.6"
  }
 },
 "nbformat": 4,
 "nbformat_minor": 5
}
